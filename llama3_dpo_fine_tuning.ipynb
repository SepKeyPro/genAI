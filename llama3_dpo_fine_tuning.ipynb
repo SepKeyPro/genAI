{
  "nbformat": 4,
  "nbformat_minor": 0,
  "metadata": {
    "colab": {
      "provenance": [],
      "gpuType": "A100",
      "machine_shape": "hm",
      "authorship_tag": "ABX9TyOKgRw3OL/JM9y4aTfxnazw",
      "include_colab_link": true
    },
    "kernelspec": {
      "name": "python3",
      "display_name": "Python 3"
    },
    "language_info": {
      "name": "python"
    },
    "accelerator": "GPU"
  },
  "cells": [
    {
      "cell_type": "markdown",
      "metadata": {
        "id": "view-in-github",
        "colab_type": "text"
      },
      "source": [
        "<a href=\"https://colab.research.google.com/github/SepKeyPro/genAI/blob/main/llama3_dpo_fine_tuning.ipynb\" target=\"_parent\"><img src=\"https://colab.research.google.com/assets/colab-badge.svg\" alt=\"Open In Colab\"/></a>"
      ]
    },
    {
      "cell_type": "code",
      "source": [
        "pip install -U transformers datasets accelerate peft bitsandbytes wandb git+https://github.com/huggingface/trl"
      ],
      "metadata": {
        "id": "bS54V-g4lSG9"
      },
      "execution_count": 23,
      "outputs": []
    },
    {
      "cell_type": "code",
      "execution_count": 2,
      "metadata": {
        "id": "WfgaPg1pjbSv"
      },
      "outputs": [],
      "source": [
        "import torch\n",
        "import wandb\n",
        "from peft import LoraConfig, PeftModel, prepare_model_for_kbit_training\n",
        "from datasets import load_dataset\n",
        "from transformers import (\n",
        "    AutoModelForCausalLM,\n",
        "    AutoTokenizer,\n",
        "    BitsAndBytesConfig,\n",
        "    TrainingArguments,\n",
        ")\n",
        "from trl import DPOTrainer, DPOConfig, SFTTrainer, setup_chat_format\n",
        "from huggingface_hub import login"
      ]
    },
    {
      "cell_type": "code",
      "source": [
        "login(token=\"Your Key\")\n",
        "wandb.login(key=\"You Key\")"
      ],
      "metadata": {
        "id": "Vebf3_mXj9ZW"
      },
      "execution_count": 23,
      "outputs": []
    },
    {
      "cell_type": "code",
      "source": [
        "from transformers import AutoModelForCausalLM, AutoTokenizer\n",
        "\n",
        "base_model = \"meta-llama/Meta-Llama-3-8B\"\n",
        "tokenizer = AutoTokenizer.from_pretrained(base_model)\n",
        "tokenizer.pad_token = tokenizer.eos_token\n",
        "tokenizer.padding_side = \"left\"\n",
        "chat = [\n",
        "   {\"role\": \"user\", \"content\": \"Hello, how is the weather today?\"},\n",
        "   {\"role\": \"assistant\", \"content\": \"It's currently cloudy and 55.4 F?\"},\n",
        "]\n",
        "tokenizer.apply_chat_template(chat, tokenize=False)"
      ],
      "metadata": {
        "id": "ZUfLlQGFhGbd"
      },
      "execution_count": 23,
      "outputs": []
    },
    {
      "cell_type": "code",
      "source": [
        "bnb_config = BitsAndBytesConfig(\n",
        "    load_in_4bit=True,\n",
        "    bnb_4bit_quant_type='nf4',\n",
        "    bnb_4bit_compute_dtype=torch.bfloat16,\n",
        "    bnb_4bit_use_double_quant=True,\n",
        ")\n",
        "\n",
        "peft_config = LoraConfig(\n",
        "    r=16,\n",
        "    lora_alpha=32,\n",
        "    lora_dropout=0.05,\n",
        "    bias=\"none\",\n",
        "    task_type=\"CAUSAL_LM\",\n",
        "    target_modules=['up_proj', 'down_proj', 'gate_proj', 'k_proj', 'q_proj', 'v_proj', 'o_proj']\n",
        ")"
      ],
      "metadata": {
        "id": "CucZBuxdwz-r"
      },
      "execution_count": 5,
      "outputs": []
    },
    {
      "cell_type": "code",
      "source": [
        "dataset = \"mlabonne/orpo-dpo-mix-40k\"\n",
        "dataset = load_dataset(dataset,split=\"all\")\n",
        "dataset = dataset.shuffle(seed=42).select(range(100))\n",
        "\n",
        "# Model to fine-tune\n",
        "model = AutoModelForCausalLM.from_pretrained(\n",
        "    base_model,\n",
        "    quantization_config=bnb_config,\n",
        "    torch_dtype=torch.float16,\n",
        ")\n",
        "model.config.use_cache = False\n",
        "\n",
        "# Reference model\n",
        "ref_model = AutoModelForCausalLM.from_pretrained(\n",
        "    base_model,\n",
        "    quantization_config=bnb_config,\n",
        "    torch_dtype=torch.float16,\n",
        ")"
      ],
      "metadata": {
        "id": "AHjdGUSvolj9"
      },
      "execution_count": 23,
      "outputs": []
    },
    {
      "cell_type": "code",
      "source": [
        "def format_chat_template(row):\n",
        "    row[\"chosen\"] = tokenizer.apply_chat_template(row[\"chosen\"], tokenize=False)\n",
        "    row[\"rejected\"] = tokenizer.apply_chat_template(row[\"rejected\"], tokenize=False)\n",
        "    return row\n",
        "\n",
        "dataset = dataset.map(format_chat_template)\n",
        "dataset = dataset.train_test_split(test_size=0.01)\n",
        "train_dataset = dataset['train']\n",
        "eval_dataset = dataset['test']"
      ],
      "metadata": {
        "id": "HxXWqIuLquUp"
      },
      "execution_count": 23,
      "outputs": []
    },
    {
      "cell_type": "code",
      "source": [
        "training_args = DPOConfig(\n",
        "    learning_rate=5e-5, #from original paper\n",
        "    beta=0.1, ##from original paper\n",
        "    optim = \"paged_adamw_32bit\",\n",
        "    output_dir=\"./results\",\n",
        "    max_prompt_length=1024,\n",
        "    max_length=1536,\n",
        "    num_train_epochs=1,\n",
        "    report_to=\"wandb\",\n",
        ")\n",
        "\n",
        "dpo_trainer = DPOTrainer(\n",
        "    model,\n",
        "    ref_model=None,\n",
        "    args=training_args,\n",
        "    train_dataset=train_dataset,\n",
        "    eval_dataset=eval_dataset,\n",
        "    peft_config=peft_config,\n",
        "    tokenizer=tokenizer,\n",
        ")\n",
        "dpo_trainer.train()"
      ],
      "metadata": {
        "id": "KxwAEha_kAAw"
      },
      "execution_count": 23,
      "outputs": []
    }
  ]
}