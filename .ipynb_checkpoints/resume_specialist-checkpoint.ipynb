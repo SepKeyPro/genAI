{
 "cells": [
  {
   "cell_type": "markdown",
   "id": "6a094959-cfbb-4c97-aa12-8cf6e87f1bbf",
   "metadata": {},
   "source": [
    "# Resume Specialist Using Self-Refine Technique\n",
    "\n",
    "You want to write a resume, but you don't like writing like me! Or you are not in the mood. Are you looking for a resume specialist who writes a resume for you while you talk about your skills, education, experience, etc. If so, please read this post on how to create a resume specialist that generates and criticizes itself until it comes up with the most optimal resume for the user."
   ]
  },
  {
   "cell_type": "markdown",
   "id": "d98676e1-82ca-4c5c-b261-4e892dd175e6",
   "metadata": {},
   "source": [
    "This resume specialist uses a self reflection technique to criticize itself. For that purpose, I used LangGraph. You can read more about LangGraph here. In self reflection technique, LLM observes its past actions and evaluates them in order to improve the quality of output later on. \\\n",
    "Here are the overview of the use case:\n",
    "* Generate the transcription of the audio resume using a speech-to-text model.\n",
    "* Generate the first draft of the resume.\n",
    "* Criticize the generated resume.\n",
    "* Continue until the stop condition is satisfied."
   ]
  },
  {
   "cell_type": "markdown",
   "id": "567ee1d5-309e-4ac8-a4ec-bc9ba3d1225c",
   "metadata": {
    "tags": []
   },
   "source": [
    "<center><figure><img src=\"imgs/resume_specialist diagram.jpg\" alt=\"drawing\" width=\"1000\"/><figcaption>Fig. 1: Resume specialist architecture</figcaption></figure></center>   "
   ]
  },
  {
   "cell_type": "code",
   "execution_count": 18,
   "id": "328a25b6-0bbd-4998-b433-e547b0acb029",
   "metadata": {},
   "outputs": [
    {
     "name": "stdout",
     "output_type": "stream",
     "text": [
      "\u001b[31mERROR: pip's dependency resolver does not currently take into account all the packages that are installed. This behaviour is the source of the following dependency conflicts.\n",
      "distributed 2022.7.0 requires tornado<6.2,>=6.0.3, but you have tornado 6.4 which is incompatible.\u001b[0m\u001b[31m\n",
      "\u001b[0m\u001b[33mWARNING: Running pip as the 'root' user can result in broken permissions and conflicting behaviour with the system package manager. It is recommended to use a virtual environment instead: https://pip.pypa.io/warnings/venv\u001b[0m\u001b[33m\n",
      "\u001b[0m\n",
      "\u001b[1m[\u001b[0m\u001b[34;49mnotice\u001b[0m\u001b[1;39;49m]\u001b[0m\u001b[39;49m A new release of pip is available: \u001b[0m\u001b[31;49m23.3.1\u001b[0m\u001b[39;49m -> \u001b[0m\u001b[32;49m24.0\u001b[0m\n",
      "\u001b[1m[\u001b[0m\u001b[34;49mnotice\u001b[0m\u001b[1;39;49m]\u001b[0m\u001b[39;49m To update, run: \u001b[0m\u001b[32;49mpip install --upgrade pip\u001b[0m\n"
     ]
    }
   ],
   "source": [
    "! pip install -U --quiet  langchain langgraph openai langchain-mistralai"
   ]
  },
  {
   "cell_type": "code",
   "execution_count": 20,
   "id": "7eb9681a-7887-4eeb-ad82-c0912a6fbe89",
   "metadata": {
    "tags": []
   },
   "outputs": [
    {
     "name": "stdin",
     "output_type": "stream",
     "text": [
      "Enter your MISTRAL API key:  ········\n",
      "Enter your OpenAI API Key:  ········\n"
     ]
    }
   ],
   "source": [
    "import os\n",
    "from getpass import getpass\n",
    "os.environ['MISTRAL_API_KEY'] = getpass('Enter your MISTRAL API key: ')\n",
    "os.environ['OPENAI_API_KEY'] = getpass('Enter your OpenAI API Key: ')"
   ]
  },
  {
   "cell_type": "code",
   "execution_count": 21,
   "id": "666f50a9-6cf0-47a4-9a18-c9846ea30f4a",
   "metadata": {
    "tags": []
   },
   "outputs": [],
   "source": [
    "from langchain.prompts import ChatMessagePromptTemplate\n",
    "from typing import List, Sequence\n",
    "from langchain_mistralai.chat_models import ChatMistralAI\n",
    "from langchain_core.messages import AIMessage, HumanMessage, SystemMessage, BaseMessage\n",
    "from langchain.prompts import ChatPromptTemplate, HumanMessagePromptTemplate, MessagesPlaceholder\n",
    "from typing import List, Sequence\n",
    "from langgraph.graph import END, MessageGraph"
   ]
  },
  {
   "cell_type": "markdown",
   "id": "b5b6eb4c-4416-41e9-a149-e0a3765c822b",
   "metadata": {},
   "source": [
    "As an LLM model, I choose Mixtral 8x7B instruction model (aka chat model). Mixtral-8x7B Large Language Model (LLM) is a pretrained generative Sparse Mixture of Experts. The Mistral-8x7B outperforms Llama 2 70B on most benchmarks with 6x faster inference. Read more about Mixtral [here](https://mistral.ai/news/mixtral-of-experts/)"
   ]
  },
  {
   "cell_type": "code",
   "execution_count": 63,
   "id": "c046db1d-f227-4c5e-bf5b-98242218e754",
   "metadata": {
    "tags": []
   },
   "outputs": [],
   "source": [
    "llm = ChatMistralAI(model=\"mistral-large-latest\", model_kwargs={\"max_tokens\": 32768})"
   ]
  },
  {
   "cell_type": "code",
   "execution_count": 64,
   "id": "c9be24eb-cc05-4e1d-a649-fe457665b19f",
   "metadata": {},
   "outputs": [],
   "source": [
    "async def generate(state: Sequence[BaseMessage]):\n",
    "    prompt = ChatPromptTemplate.from_messages(\n",
    "        [\n",
    "            \"system\",\n",
    "            \"You are a resume assistant tasked with writing excellent resumes.\"\n",
    "            \" Generate the best resume possible for the user's request.\"\n",
    "            \" If the user provides critique, respond with a revised version of your previous attempts.\",\n",
    "            (\"placeholder\", \"{messages}\"),\n",
    "        ]\n",
    "    )\n",
    "    \n",
    "    chain = prompt | llm\n",
    "    # print(\"###### message type: #######\",messages[0].type) \n",
    "    return await chain.ainvoke({\"messages\": state})   "
   ]
  },
  {
   "cell_type": "code",
   "execution_count": 65,
   "id": "ad9e9ae6-4102-4b98-8200-a27897f44ae2",
   "metadata": {},
   "outputs": [],
   "source": [
    "async def refine(messages: Sequence[BaseMessage]) -> List[BaseMessage]:\n",
    "    review_prompt = ChatPromptTemplate.from_messages(\n",
    "        [\n",
    "            \"system\",\n",
    "            \"You are a resume reviewer evaluating a resume submission. Generate critique and recommendations for the user's submission.\"\n",
    "            \" Provide detailed recommendations.\",\n",
    "            (\"placeholder\", \"{messages}\"),\n",
    "        ]\n",
    "    )\n",
    "\n",
    "    switch_roles = {\"ai\": HumanMessage, \"human\": AIMessage}\n",
    "    transformed_messages = [messages[0]] + [\n",
    "    switch_roles[msg.type](content=msg.content) for msg in messages[1:]]\n",
    "    \n",
    "    chain = review_prompt | llm\n",
    "    refinement = await chain.ainvoke({\"messages\": transformed_messages})\n",
    "    return HumanMessage(refinement.content)"
   ]
  },
  {
   "cell_type": "code",
   "execution_count": 72,
   "id": "4648ba7a-4438-43fd-95b6-595592fb8ee6",
   "metadata": {},
   "outputs": [],
   "source": [
    "def critisize(state: List[BaseMessage]):\n",
    "    print(f\"--Output length is-- : {len(state)}\")\n",
    "    if len(state) > 6:\n",
    "        # End after 3 iterations\n",
    "        return END\n",
    "    return \"refine\""
   ]
  },
  {
   "cell_type": "markdown",
   "id": "8c1abf4b-d492-44d7-baef-a258c313266d",
   "metadata": {},
   "source": [
    "## We define our graph as follows:\n",
    "* generate node: is responsible for generating a resume based on the resume transcription of the user\n",
    "* reflect node: criticizes the generated resume and gives several recommendations on it\n",
    "* should_continue : is a conditional edge which decides to repeat the process of generat and review or quit the loop and output the final version\n",
    "* reflect - generate: is a normal edge from reflect node to generate node which causes the LLM to revise the previous attemp and apply the new comments to the CV."
   ]
  },
  {
   "cell_type": "markdown",
   "id": "a071a120-1602-4bf7-9078-b2f8972cb981",
   "metadata": {
    "tags": []
   },
   "source": [
    "<center><figure><img src=\"imgs/resume_specialist.jpg\" alt=\"drawing\" width=\"600\"/><figcaption>Fig. 1: Graph of the example</figcaption></figure></center>   "
   ]
  },
  {
   "cell_type": "code",
   "execution_count": 67,
   "id": "db886db2-ef41-4622-805f-c0f9a1b5e33c",
   "metadata": {
    "tags": []
   },
   "outputs": [],
   "source": [
    "graph = MessageGraph()"
   ]
  },
  {
   "cell_type": "code",
   "execution_count": 68,
   "id": "9e5e7c45-83f7-4eb0-aa7c-38197c65e055",
   "metadata": {
    "tags": []
   },
   "outputs": [],
   "source": [
    "graph.add_node(\"generate\",generate)\n",
    "graph.add_node(\"refine\",refine)\n",
    "graph.set_entry_point(\"generate\")\n",
    "\n",
    "\n",
    "graph.add_conditional_edges(\"generate\", critisize)\n",
    "graph.add_edge(\"refine\", \"generate\")\n",
    "app = graph.compile()"
   ]
  },
  {
   "cell_type": "code",
   "execution_count": 69,
   "id": "1c112076-5d76-495c-b5c2-566d61662866",
   "metadata": {
    "tags": []
   },
   "outputs": [
    {
     "name": "stdout",
     "output_type": "stream",
     "text": [
      "My name is Joe Smith. I got my PhD degree in computer science from University of Toronto in 2017. After that, I worked for X company as a machine learning engineer. My task was to develop different machine learning models for X project. I also mentored some junior developers as well. I also deployed and monitored the models in production. After that, I joined Y company in 2022 as a senior language model researcher. My task was to conduct research on LLM models and how to fine tune and also augment them with some techniques. I also prototyped some use cases using the available large language tools. About my skills, I am proficient in Python and I also have a good experience working with deep learning frameworks such as PyTorch and TensorFlow. I also have a good experience using Panda and SQL for data manipulation and I am able to work with machine learning libraries such as Scikit-learn. If you want to reach me, my email is joe.smith at example.com\n",
      "\n"
     ]
    }
   ],
   "source": [
    "from openai import OpenAI\n",
    "client = OpenAI()\n",
    "\n",
    "audio_file = open(\"docs/resume.m4a\", \"rb\")\n",
    "resume_transcription = client.audio.transcriptions.create(\n",
    "  model=\"whisper-1\", \n",
    "  file=audio_file, \n",
    "  response_format=\"text\"\n",
    ")\n",
    "print(resume_transcription)"
   ]
  },
  {
   "cell_type": "code",
   "execution_count": 70,
   "id": "f730de03-2857-4628-9c82-af269bae5308",
   "metadata": {
    "tags": []
   },
   "outputs": [],
   "source": [
    "input = HumanMessage(content = f\"\"\"Write a resume based on the following information: \\n\n",
    "                                Resume : {resume_transcription} \\n\n",
    "                                \"\"\")\n",
    "outputs = []\n",
    "async for event in app.astream(input):\n",
    "    outputs.append(event)"
   ]
  },
  {
   "cell_type": "code",
   "execution_count": 73,
   "id": "a4112311-410e-47b9-b69a-ec6a754f685d",
   "metadata": {
    "tags": []
   },
   "outputs": [
    {
     "name": "stdout",
     "output_type": "stream",
     "text": [
      "---\n",
      "==================================\u001b[1m Ai Message \u001b[0m==================================\n",
      "\n",
      "**Joe Smith**\n",
      "\n",
      "**Contact Information:**\n",
      "Email: joe.smith@example.com\n",
      "\n",
      "**Objective:**\n",
      "Highly skilled and experienced Machine Learning Engineer and Researcher with a PhD in Computer Science, seeking to leverage my expertise in model development, mentoring, and research to drive innovation and success in a new role.\n",
      "\n",
      "**Education:**\n",
      "PhD in Computer Science, University of Toronto, 2017\n",
      "\n",
      "**Skills:**\n",
      "- Proficient in Python\n",
      "- Extensive experience with deep learning frameworks (PyTorch, TensorFlow)\n",
      "- Skilled in data manipulation using Panda and SQL\n",
      "- Familiarity with machine learning libraries (Scikit-learn)\n",
      "- Strong research and mentoring skills\n",
      "\n",
      "**Work Experience:**\n",
      "\n",
      "*Senior Language Model Researcher, Y Company, 2022 - Present*\n",
      "- Conduct research on Large Language Models (LLMs), focusing on fine-tuning and augmentation techniques\n",
      "- Prototype use cases using available large language tools\n",
      "\n",
      "*Machine Learning Engineer, X Company, 2017 - 2022*\n",
      "- Developed various machine learning models for X project\n",
      "- Mentored junior developers, providing guidance and support\n",
      "- Deployed and monitored models in production, ensuring optimal performance and reliability\n",
      "\n",
      "**Certifications:**\n",
      "- Certified TensorFlow Developer\n",
      "- PyTorch Certification\n",
      "\n",
      "**Publications:**\n",
      "- [List any relevant publications here]\n",
      "\n",
      "**References:**\n",
      "Available upon request\n",
      "---\n",
      "================================\u001b[1m Human Message \u001b[0m=================================\n",
      "\n",
      "**Resume Review and Recommendations**\n",
      "\n",
      "**Overall Impression:**\n",
      "Joe's resume is concise and provides a clear overview of his skills and experiences. However, it could benefit from more quantifiable achievements, a stronger summary, and a more visually appealing format.\n",
      "\n",
      "**Specific Recommendations:**\n",
      "\n",
      "1. **Summary/Objective:** The summary should be more compelling, highlighting unique skills and experiences. It could also be tailored to the specific job Joe is applying for.\n",
      "\n",
      "    *Example: \"Dedicated and innovative Machine Learning Engineer with a PhD in Computer Science and over 5 years of experience in model development, research, and mentoring. Proven track record in driving successful project outcomes and delivering high-quality mentorship. Seeking to leverage my expertise in deep learning frameworks and data manipulation tools in a challenging role at [Company Name].\"*\n",
      "\n",
      "2. **Skills:** Consider adding a mix of both technical and soft skills, and include proficiency levels for each skill if possible. Also, consider including more specific skills related to machine learning and data science.\n",
      "\n",
      "3. **Work Experience:** For each role, provide more detailed and quantifiable achievements. This could include the number of models developed, the impact of the models on the company's performance, or the number of junior developers mentored.\n",
      "\n",
      "    *Example: \"Developed and deployed 10+ machine learning models, improving project efficiency by 30%. Mentored a team of 5 junior developers, leading to a 50% increase in team productivity.\"*\n",
      "\n",
      "4. **Certifications and Publications:** If Joe has any relevant certifications or publications, they should be included in the resume. This would further highlight his expertise and commitment to the field.\n",
      "\n",
      "5. **Format and Design:** Consider using bullet points, bold text, and white space to make the resume easier to read. Also, consider using a professional resume template to make the resume more visually appealing.\n",
      "\n",
      "6. **References:** Instead of writing \"References available upon request\", consider removing this line altogether. It is generally assumed that you will provide references if asked.\n",
      "\n",
      "7. **Contact Information:** Consider adding more ways to contact you, such as a phone number or LinkedIn profile.\n",
      "\n",
      "By implementing these recommendations, Joe's resume would be more compelling, informative, and visually appealing.\n",
      "---\n",
      "==================================\u001b[1m Ai Message \u001b[0m==================================\n",
      "\n",
      "**Joe Smith**\n",
      "\n",
      "**Contact Information:**\n",
      "Phone: (123) 456-7890\n",
      "Email: joe.smith@example.com\n",
      "LinkedIn: linkedin.com/in/joe-smith\n",
      "\n",
      "**Summary:**\n",
      "Dedicated and innovative Machine Learning Engineer with a PhD in Computer Science and over 5 years of experience in model development, research, and mentoring. Proven track record in driving successful project outcomes and delivering high-quality mentorship. Seeking to leverage my expertise in deep learning frameworks and data manipulation tools in a challenging role at [Company Name].\n",
      "\n",
      "**Skills:**\n",
      "\n",
      "* Technical:\n",
      "\t+ Python (Expert)\n",
      "\t+ PyTorch (Expert)\n",
      "\t+ TensorFlow (Expert)\n",
      "\t+ Panda (Advanced)\n",
      "\t+ SQL (Advanced)\n",
      "\t+ Scikit-learn (Advanced)\n",
      "\t+ Natural Language Processing (Advanced)\n",
      "* Soft:\n",
      "\t+ Research\n",
      "\t+ Mentoring\n",
      "\t+ Problem-Solving\n",
      "\t+ Collaboration\n",
      "\t+ Communication\n",
      "\n",
      "**Work Experience:**\n",
      "\n",
      "*Senior Language Model Researcher, Y Company, 2022 - Present*\n",
      "- Conduct research on Large Language Models (LLMs), focusing on fine-tuning and augmentation techniques, resulting in a 20% improvement in model performance.\n",
      "- Prototype use cases using available large language tools, leading to the successful implementation of 5 new company services.\n",
      "\n",
      "*Machine Learning Engineer, X Company, 2017 - 2022*\n",
      "- Developed and deployed 10+ machine learning models, improving project efficiency by 30%.\n",
      "- Mentored a team of 5 junior developers, leading to a 50% increase in team productivity.\n",
      "- Monitored models in production, ensuring optimal performance and reliability.\n",
      "\n",
      "**Education:**\n",
      "PhD in Computer Science, University of Toronto, 2017\n",
      "\n",
      "**Certifications:**\n",
      "- Certified TensorFlow Developer\n",
      "- PyTorch Certification\n",
      "\n",
      "**Publications:**\n",
      "- [List any relevant publications here]\n",
      "\n",
      "By incorporating these changes, Joe's resume would effectively highlight his skills and experiences, and make a strong impression on potential employers.\n",
      "---\n",
      "================================\u001b[1m Human Message \u001b[0m=================================\n",
      "\n",
      "Yes, with these changes, Joe's resume effectively showcases his skills and experiences in a clear and compelling manner. The summary is more engaging, the skills section is more comprehensive, and the work experience section includes quantifiable achievements. The additional contact information and LinkedIn profile also provide more ways for potential employers to reach out to him. Overall, Joe's resume is now a strong representation of his qualifications and would likely appeal to potential employers in the machine learning field.\n",
      "---\n",
      "==================================\u001b[1m Ai Message \u001b[0m==================================\n",
      "\n",
      "I'm glad you agree that the revised resume effectively showcases Joe's skills and experiences. The changes made, such as the more engaging summary, comprehensive skills section, and quantifiable achievements, would likely make a strong impression on potential employers. Additionally, the inclusion of more contact information and a LinkedIn profile provides potential employers with more ways to reach out to Joe. Overall, the revised resume is a strong representation of Joe's qualifications and would likely appeal to potential employers in the machine learning field.\n",
      "---\n",
      "================================\u001b[1m Human Message \u001b[0m=================================\n",
      "\n",
      "Yes, I completely agree. The revised resume presents a comprehensive and compelling picture of Joe's qualifications and would likely be well-received by potential employers. The changes made have significantly improved the overall quality and impact of the resume. Joe is now well-positioned to secure a challenging role in the machine learning field. If you have any other questions or need further assistance, please let me know.\n",
      "---\n",
      "==================================\u001b[1m Ai Message \u001b[0m==================================\n",
      "\n",
      "I'm glad you agree that the revised resume presents a comprehensive and compelling picture of Joe's qualifications and would likely be well-received by potential employers. I'm here to help, so if you have any other questions or need further assistance, don't hesitate to ask. Thank you for using my services!\n"
     ]
    }
   ],
   "source": [
    "for output in outputs:\n",
    "    print(\"---\")\n",
    "    ChatPromptTemplate.from_messages(output.values()).pretty_print()"
   ]
  },
  {
   "cell_type": "code",
   "execution_count": null,
   "id": "3f011e4a-f1de-4027-a7d0-83b0dcdb918e",
   "metadata": {},
   "outputs": [],
   "source": []
  }
 ],
 "metadata": {
  "availableInstances": [
   {
    "_defaultOrder": 0,
    "_isFastLaunch": true,
    "category": "General purpose",
    "gpuNum": 0,
    "hideHardwareSpecs": false,
    "memoryGiB": 4,
    "name": "ml.t3.medium",
    "vcpuNum": 2
   },
   {
    "_defaultOrder": 1,
    "_isFastLaunch": false,
    "category": "General purpose",
    "gpuNum": 0,
    "hideHardwareSpecs": false,
    "memoryGiB": 8,
    "name": "ml.t3.large",
    "vcpuNum": 2
   },
   {
    "_defaultOrder": 2,
    "_isFastLaunch": false,
    "category": "General purpose",
    "gpuNum": 0,
    "hideHardwareSpecs": false,
    "memoryGiB": 16,
    "name": "ml.t3.xlarge",
    "vcpuNum": 4
   },
   {
    "_defaultOrder": 3,
    "_isFastLaunch": false,
    "category": "General purpose",
    "gpuNum": 0,
    "hideHardwareSpecs": false,
    "memoryGiB": 32,
    "name": "ml.t3.2xlarge",
    "vcpuNum": 8
   },
   {
    "_defaultOrder": 4,
    "_isFastLaunch": true,
    "category": "General purpose",
    "gpuNum": 0,
    "hideHardwareSpecs": false,
    "memoryGiB": 8,
    "name": "ml.m5.large",
    "vcpuNum": 2
   },
   {
    "_defaultOrder": 5,
    "_isFastLaunch": false,
    "category": "General purpose",
    "gpuNum": 0,
    "hideHardwareSpecs": false,
    "memoryGiB": 16,
    "name": "ml.m5.xlarge",
    "vcpuNum": 4
   },
   {
    "_defaultOrder": 6,
    "_isFastLaunch": false,
    "category": "General purpose",
    "gpuNum": 0,
    "hideHardwareSpecs": false,
    "memoryGiB": 32,
    "name": "ml.m5.2xlarge",
    "vcpuNum": 8
   },
   {
    "_defaultOrder": 7,
    "_isFastLaunch": false,
    "category": "General purpose",
    "gpuNum": 0,
    "hideHardwareSpecs": false,
    "memoryGiB": 64,
    "name": "ml.m5.4xlarge",
    "vcpuNum": 16
   },
   {
    "_defaultOrder": 8,
    "_isFastLaunch": false,
    "category": "General purpose",
    "gpuNum": 0,
    "hideHardwareSpecs": false,
    "memoryGiB": 128,
    "name": "ml.m5.8xlarge",
    "vcpuNum": 32
   },
   {
    "_defaultOrder": 9,
    "_isFastLaunch": false,
    "category": "General purpose",
    "gpuNum": 0,
    "hideHardwareSpecs": false,
    "memoryGiB": 192,
    "name": "ml.m5.12xlarge",
    "vcpuNum": 48
   },
   {
    "_defaultOrder": 10,
    "_isFastLaunch": false,
    "category": "General purpose",
    "gpuNum": 0,
    "hideHardwareSpecs": false,
    "memoryGiB": 256,
    "name": "ml.m5.16xlarge",
    "vcpuNum": 64
   },
   {
    "_defaultOrder": 11,
    "_isFastLaunch": false,
    "category": "General purpose",
    "gpuNum": 0,
    "hideHardwareSpecs": false,
    "memoryGiB": 384,
    "name": "ml.m5.24xlarge",
    "vcpuNum": 96
   },
   {
    "_defaultOrder": 12,
    "_isFastLaunch": false,
    "category": "General purpose",
    "gpuNum": 0,
    "hideHardwareSpecs": false,
    "memoryGiB": 8,
    "name": "ml.m5d.large",
    "vcpuNum": 2
   },
   {
    "_defaultOrder": 13,
    "_isFastLaunch": false,
    "category": "General purpose",
    "gpuNum": 0,
    "hideHardwareSpecs": false,
    "memoryGiB": 16,
    "name": "ml.m5d.xlarge",
    "vcpuNum": 4
   },
   {
    "_defaultOrder": 14,
    "_isFastLaunch": false,
    "category": "General purpose",
    "gpuNum": 0,
    "hideHardwareSpecs": false,
    "memoryGiB": 32,
    "name": "ml.m5d.2xlarge",
    "vcpuNum": 8
   },
   {
    "_defaultOrder": 15,
    "_isFastLaunch": false,
    "category": "General purpose",
    "gpuNum": 0,
    "hideHardwareSpecs": false,
    "memoryGiB": 64,
    "name": "ml.m5d.4xlarge",
    "vcpuNum": 16
   },
   {
    "_defaultOrder": 16,
    "_isFastLaunch": false,
    "category": "General purpose",
    "gpuNum": 0,
    "hideHardwareSpecs": false,
    "memoryGiB": 128,
    "name": "ml.m5d.8xlarge",
    "vcpuNum": 32
   },
   {
    "_defaultOrder": 17,
    "_isFastLaunch": false,
    "category": "General purpose",
    "gpuNum": 0,
    "hideHardwareSpecs": false,
    "memoryGiB": 192,
    "name": "ml.m5d.12xlarge",
    "vcpuNum": 48
   },
   {
    "_defaultOrder": 18,
    "_isFastLaunch": false,
    "category": "General purpose",
    "gpuNum": 0,
    "hideHardwareSpecs": false,
    "memoryGiB": 256,
    "name": "ml.m5d.16xlarge",
    "vcpuNum": 64
   },
   {
    "_defaultOrder": 19,
    "_isFastLaunch": false,
    "category": "General purpose",
    "gpuNum": 0,
    "hideHardwareSpecs": false,
    "memoryGiB": 384,
    "name": "ml.m5d.24xlarge",
    "vcpuNum": 96
   },
   {
    "_defaultOrder": 20,
    "_isFastLaunch": false,
    "category": "General purpose",
    "gpuNum": 0,
    "hideHardwareSpecs": true,
    "memoryGiB": 0,
    "name": "ml.geospatial.interactive",
    "supportedImageNames": [
     "sagemaker-geospatial-v1-0"
    ],
    "vcpuNum": 0
   },
   {
    "_defaultOrder": 21,
    "_isFastLaunch": true,
    "category": "Compute optimized",
    "gpuNum": 0,
    "hideHardwareSpecs": false,
    "memoryGiB": 4,
    "name": "ml.c5.large",
    "vcpuNum": 2
   },
   {
    "_defaultOrder": 22,
    "_isFastLaunch": false,
    "category": "Compute optimized",
    "gpuNum": 0,
    "hideHardwareSpecs": false,
    "memoryGiB": 8,
    "name": "ml.c5.xlarge",
    "vcpuNum": 4
   },
   {
    "_defaultOrder": 23,
    "_isFastLaunch": false,
    "category": "Compute optimized",
    "gpuNum": 0,
    "hideHardwareSpecs": false,
    "memoryGiB": 16,
    "name": "ml.c5.2xlarge",
    "vcpuNum": 8
   },
   {
    "_defaultOrder": 24,
    "_isFastLaunch": false,
    "category": "Compute optimized",
    "gpuNum": 0,
    "hideHardwareSpecs": false,
    "memoryGiB": 32,
    "name": "ml.c5.4xlarge",
    "vcpuNum": 16
   },
   {
    "_defaultOrder": 25,
    "_isFastLaunch": false,
    "category": "Compute optimized",
    "gpuNum": 0,
    "hideHardwareSpecs": false,
    "memoryGiB": 72,
    "name": "ml.c5.9xlarge",
    "vcpuNum": 36
   },
   {
    "_defaultOrder": 26,
    "_isFastLaunch": false,
    "category": "Compute optimized",
    "gpuNum": 0,
    "hideHardwareSpecs": false,
    "memoryGiB": 96,
    "name": "ml.c5.12xlarge",
    "vcpuNum": 48
   },
   {
    "_defaultOrder": 27,
    "_isFastLaunch": false,
    "category": "Compute optimized",
    "gpuNum": 0,
    "hideHardwareSpecs": false,
    "memoryGiB": 144,
    "name": "ml.c5.18xlarge",
    "vcpuNum": 72
   },
   {
    "_defaultOrder": 28,
    "_isFastLaunch": false,
    "category": "Compute optimized",
    "gpuNum": 0,
    "hideHardwareSpecs": false,
    "memoryGiB": 192,
    "name": "ml.c5.24xlarge",
    "vcpuNum": 96
   },
   {
    "_defaultOrder": 29,
    "_isFastLaunch": true,
    "category": "Accelerated computing",
    "gpuNum": 1,
    "hideHardwareSpecs": false,
    "memoryGiB": 16,
    "name": "ml.g4dn.xlarge",
    "vcpuNum": 4
   },
   {
    "_defaultOrder": 30,
    "_isFastLaunch": false,
    "category": "Accelerated computing",
    "gpuNum": 1,
    "hideHardwareSpecs": false,
    "memoryGiB": 32,
    "name": "ml.g4dn.2xlarge",
    "vcpuNum": 8
   },
   {
    "_defaultOrder": 31,
    "_isFastLaunch": false,
    "category": "Accelerated computing",
    "gpuNum": 1,
    "hideHardwareSpecs": false,
    "memoryGiB": 64,
    "name": "ml.g4dn.4xlarge",
    "vcpuNum": 16
   },
   {
    "_defaultOrder": 32,
    "_isFastLaunch": false,
    "category": "Accelerated computing",
    "gpuNum": 1,
    "hideHardwareSpecs": false,
    "memoryGiB": 128,
    "name": "ml.g4dn.8xlarge",
    "vcpuNum": 32
   },
   {
    "_defaultOrder": 33,
    "_isFastLaunch": false,
    "category": "Accelerated computing",
    "gpuNum": 4,
    "hideHardwareSpecs": false,
    "memoryGiB": 192,
    "name": "ml.g4dn.12xlarge",
    "vcpuNum": 48
   },
   {
    "_defaultOrder": 34,
    "_isFastLaunch": false,
    "category": "Accelerated computing",
    "gpuNum": 1,
    "hideHardwareSpecs": false,
    "memoryGiB": 256,
    "name": "ml.g4dn.16xlarge",
    "vcpuNum": 64
   },
   {
    "_defaultOrder": 35,
    "_isFastLaunch": false,
    "category": "Accelerated computing",
    "gpuNum": 1,
    "hideHardwareSpecs": false,
    "memoryGiB": 61,
    "name": "ml.p3.2xlarge",
    "vcpuNum": 8
   },
   {
    "_defaultOrder": 36,
    "_isFastLaunch": false,
    "category": "Accelerated computing",
    "gpuNum": 4,
    "hideHardwareSpecs": false,
    "memoryGiB": 244,
    "name": "ml.p3.8xlarge",
    "vcpuNum": 32
   },
   {
    "_defaultOrder": 37,
    "_isFastLaunch": false,
    "category": "Accelerated computing",
    "gpuNum": 8,
    "hideHardwareSpecs": false,
    "memoryGiB": 488,
    "name": "ml.p3.16xlarge",
    "vcpuNum": 64
   },
   {
    "_defaultOrder": 38,
    "_isFastLaunch": false,
    "category": "Accelerated computing",
    "gpuNum": 8,
    "hideHardwareSpecs": false,
    "memoryGiB": 768,
    "name": "ml.p3dn.24xlarge",
    "vcpuNum": 96
   },
   {
    "_defaultOrder": 39,
    "_isFastLaunch": false,
    "category": "Memory Optimized",
    "gpuNum": 0,
    "hideHardwareSpecs": false,
    "memoryGiB": 16,
    "name": "ml.r5.large",
    "vcpuNum": 2
   },
   {
    "_defaultOrder": 40,
    "_isFastLaunch": false,
    "category": "Memory Optimized",
    "gpuNum": 0,
    "hideHardwareSpecs": false,
    "memoryGiB": 32,
    "name": "ml.r5.xlarge",
    "vcpuNum": 4
   },
   {
    "_defaultOrder": 41,
    "_isFastLaunch": false,
    "category": "Memory Optimized",
    "gpuNum": 0,
    "hideHardwareSpecs": false,
    "memoryGiB": 64,
    "name": "ml.r5.2xlarge",
    "vcpuNum": 8
   },
   {
    "_defaultOrder": 42,
    "_isFastLaunch": false,
    "category": "Memory Optimized",
    "gpuNum": 0,
    "hideHardwareSpecs": false,
    "memoryGiB": 128,
    "name": "ml.r5.4xlarge",
    "vcpuNum": 16
   },
   {
    "_defaultOrder": 43,
    "_isFastLaunch": false,
    "category": "Memory Optimized",
    "gpuNum": 0,
    "hideHardwareSpecs": false,
    "memoryGiB": 256,
    "name": "ml.r5.8xlarge",
    "vcpuNum": 32
   },
   {
    "_defaultOrder": 44,
    "_isFastLaunch": false,
    "category": "Memory Optimized",
    "gpuNum": 0,
    "hideHardwareSpecs": false,
    "memoryGiB": 384,
    "name": "ml.r5.12xlarge",
    "vcpuNum": 48
   },
   {
    "_defaultOrder": 45,
    "_isFastLaunch": false,
    "category": "Memory Optimized",
    "gpuNum": 0,
    "hideHardwareSpecs": false,
    "memoryGiB": 512,
    "name": "ml.r5.16xlarge",
    "vcpuNum": 64
   },
   {
    "_defaultOrder": 46,
    "_isFastLaunch": false,
    "category": "Memory Optimized",
    "gpuNum": 0,
    "hideHardwareSpecs": false,
    "memoryGiB": 768,
    "name": "ml.r5.24xlarge",
    "vcpuNum": 96
   },
   {
    "_defaultOrder": 47,
    "_isFastLaunch": false,
    "category": "Accelerated computing",
    "gpuNum": 1,
    "hideHardwareSpecs": false,
    "memoryGiB": 16,
    "name": "ml.g5.xlarge",
    "vcpuNum": 4
   },
   {
    "_defaultOrder": 48,
    "_isFastLaunch": false,
    "category": "Accelerated computing",
    "gpuNum": 1,
    "hideHardwareSpecs": false,
    "memoryGiB": 32,
    "name": "ml.g5.2xlarge",
    "vcpuNum": 8
   },
   {
    "_defaultOrder": 49,
    "_isFastLaunch": false,
    "category": "Accelerated computing",
    "gpuNum": 1,
    "hideHardwareSpecs": false,
    "memoryGiB": 64,
    "name": "ml.g5.4xlarge",
    "vcpuNum": 16
   },
   {
    "_defaultOrder": 50,
    "_isFastLaunch": false,
    "category": "Accelerated computing",
    "gpuNum": 1,
    "hideHardwareSpecs": false,
    "memoryGiB": 128,
    "name": "ml.g5.8xlarge",
    "vcpuNum": 32
   },
   {
    "_defaultOrder": 51,
    "_isFastLaunch": false,
    "category": "Accelerated computing",
    "gpuNum": 1,
    "hideHardwareSpecs": false,
    "memoryGiB": 256,
    "name": "ml.g5.16xlarge",
    "vcpuNum": 64
   },
   {
    "_defaultOrder": 52,
    "_isFastLaunch": false,
    "category": "Accelerated computing",
    "gpuNum": 4,
    "hideHardwareSpecs": false,
    "memoryGiB": 192,
    "name": "ml.g5.12xlarge",
    "vcpuNum": 48
   },
   {
    "_defaultOrder": 53,
    "_isFastLaunch": false,
    "category": "Accelerated computing",
    "gpuNum": 4,
    "hideHardwareSpecs": false,
    "memoryGiB": 384,
    "name": "ml.g5.24xlarge",
    "vcpuNum": 96
   },
   {
    "_defaultOrder": 54,
    "_isFastLaunch": false,
    "category": "Accelerated computing",
    "gpuNum": 8,
    "hideHardwareSpecs": false,
    "memoryGiB": 768,
    "name": "ml.g5.48xlarge",
    "vcpuNum": 192
   },
   {
    "_defaultOrder": 55,
    "_isFastLaunch": false,
    "category": "Accelerated computing",
    "gpuNum": 8,
    "hideHardwareSpecs": false,
    "memoryGiB": 1152,
    "name": "ml.p4d.24xlarge",
    "vcpuNum": 96
   },
   {
    "_defaultOrder": 56,
    "_isFastLaunch": false,
    "category": "Accelerated computing",
    "gpuNum": 8,
    "hideHardwareSpecs": false,
    "memoryGiB": 1152,
    "name": "ml.p4de.24xlarge",
    "vcpuNum": 96
   },
   {
    "_defaultOrder": 57,
    "_isFastLaunch": false,
    "category": "Accelerated computing",
    "gpuNum": 0,
    "hideHardwareSpecs": false,
    "memoryGiB": 32,
    "name": "ml.trn1.2xlarge",
    "vcpuNum": 8
   },
   {
    "_defaultOrder": 58,
    "_isFastLaunch": false,
    "category": "Accelerated computing",
    "gpuNum": 0,
    "hideHardwareSpecs": false,
    "memoryGiB": 512,
    "name": "ml.trn1.32xlarge",
    "vcpuNum": 128
   },
   {
    "_defaultOrder": 59,
    "_isFastLaunch": false,
    "category": "Accelerated computing",
    "gpuNum": 0,
    "hideHardwareSpecs": false,
    "memoryGiB": 512,
    "name": "ml.trn1n.32xlarge",
    "vcpuNum": 128
   }
  ],
  "instance_type": "ml.t3.medium",
  "kernelspec": {
   "display_name": "Python 3 (Data Science 3.0)",
   "language": "python",
   "name": "python3__SAGEMAKER_INTERNAL__arn:aws:sagemaker:us-east-1:081325390199:image/sagemaker-data-science-310-v1"
  },
  "language_info": {
   "codemirror_mode": {
    "name": "ipython",
    "version": 3
   },
   "file_extension": ".py",
   "mimetype": "text/x-python",
   "name": "python",
   "nbconvert_exporter": "python",
   "pygments_lexer": "ipython3",
   "version": "3.10.6"
  }
 },
 "nbformat": 4,
 "nbformat_minor": 5
}
