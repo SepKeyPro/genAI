{
 "cells": [
  {
   "cell_type": "markdown",
   "id": "c7f3b86f-f367-4482-a38c-85f0e0ad4557",
   "metadata": {},
   "source": [
    "# Job Assistant "
   ]
  },
  {
   "cell_type": "markdown",
   "id": "caf5ea81-25fc-4b67-9048-dba3eb29d0bd",
   "metadata": {},
   "source": [
    "Recent advancements in LLM has proven how powerful these models are and how far these technology can go. In the previous post, I talked about the magic technique called \"prompting technique\" that can harness the power of LLMs without going through an expensive fine-tuining process. One of the latest technique ReAct, gives the model ability to reason and act extending their use cases. In this post, I am going to build a simple Job assistant using a LangChain agent. So, let's dive in!"
   ]
  },
  {
   "cell_type": "markdown",
   "id": "2912799f-2181-4453-9398-ee65c2ced82e",
   "metadata": {},
   "source": [
    "First, we should load our resume so the model could analyze it and find the core competency of the candidate. In the following I imported PyPDFium2Loader which is faster than PyPDFLoader, then load the pdf file of the resume."
   ]
  },
  {
   "cell_type": "code",
   "execution_count": 2,
   "id": "e7d64152-b76a-4b3c-9e77-5699b0308e09",
   "metadata": {
    "tags": []
   },
   "outputs": [],
   "source": [
    "from langchain.document_loaders import PyPDFLoader\n",
    "from langchain.document_loaders import PyPDFium2Loader\n",
    "from openai import OpenAI\n",
    "import os\n",
    "import json"
   ]
  },
  {
   "cell_type": "code",
   "execution_count": 4,
   "id": "2190f3bd-46d4-4c91-afc2-2655a095336c",
   "metadata": {
    "tags": []
   },
   "outputs": [],
   "source": [
    "import langchain.llms.openai"
   ]
  },
  {
   "cell_type": "code",
   "execution_count": null,
   "id": "0be11d92-3b64-4c11-a654-d7d2c6bc6f7f",
   "metadata": {},
   "outputs": [],
   "source": [
    "loader = PyPDFium2Loader(\"docs/Resume2.pdf\")\n",
    "pages = loader.load()"
   ]
  },
  {
   "cell_type": "code",
   "execution_count": 5,
   "id": "e538ae56-6304-4b76-b48e-e270d8b2c1d1",
   "metadata": {
    "tags": []
   },
   "outputs": [],
   "source": [
    "page_content = []\n",
    "for page in pages:\n",
    "    page_content.append(page.page_content)\n",
    "all_pages = \"\".join(page_content) "
   ]
  },
  {
   "cell_type": "markdown",
   "id": "226b6d6d-b0c6-4ee7-9e51-637101950559",
   "metadata": {},
   "source": [
    "After we sucesfully loaded the pdf file of the resume. We ask our model to analyze our resume and find the best core competency based on the experiences and the skill sets mentioned in the resume. "
   ]
  },
  {
   "cell_type": "code",
   "execution_count": 26,
   "id": "f48655ce-f98b-4513-bb25-da27c9e41f48",
   "metadata": {
    "tags": []
   },
   "outputs": [],
   "source": [
    "os.environ[\"OPENAI_API_KEY\"] = \"your open_ai key\"\n",
    "os.environ[\"SERPAPI_API_KEY\"] = \"your serp_api key\""
   ]
  },
  {
   "cell_type": "code",
   "execution_count": 8,
   "id": "4a0153d9-3521-47e7-92f1-de37cd444e60",
   "metadata": {
    "tags": []
   },
   "outputs": [],
   "source": [
    "from openai import OpenAI\n",
    "client = OpenAI()\n",
    "\n",
    "response = client.chat.completions.create(\n",
    "  model=\"gpt-3.5-turbo\",\n",
    "  messages=[\n",
    "    {\"role\": \"system\", \"content\": \"You are a helpful job assistant.\"},\n",
    "    {\"role\": \"user\", \"content\": f\"Please define the best job role for the candidate in this resume: {all_pages}. Do not include any names in your response. \\n\\nJob role |  Core competencies | Seniority level\"}   \n",
    "  ]\n",
    ")"
   ]
  },
  {
   "cell_type": "code",
   "execution_count": 9,
   "id": "f89f226f-b5e7-4aef-973e-e5d28b89c34a",
   "metadata": {
    "tags": []
   },
   "outputs": [],
   "source": [
    "result = response.choices[0].message.content"
   ]
  },
  {
   "cell_type": "code",
   "execution_count": 11,
   "id": "939b611f-5f2e-4e50-bc1c-505cd3b9574f",
   "metadata": {
    "tags": []
   },
   "outputs": [],
   "source": [
    "responses = result.split(\"\\n\")"
   ]
  },
  {
   "cell_type": "code",
   "execution_count": 17,
   "id": "b18df93d-1996-4897-9975-07dafb39a3bd",
   "metadata": {
    "tags": []
   },
   "outputs": [],
   "source": [
    "for res in responses:\n",
    "    if res.startswith(\"Job role\"):\n",
    "        job_role = res[10:]\n",
    "    if res.startswith(\"Seniority level\"):\n",
    "        seniority_level = res[17:]"
   ]
  },
  {
   "cell_type": "markdown",
   "id": "b7a48c95-8a69-4b4d-be19-c279d1ecfcbf",
   "metadata": {},
   "source": [
    "So far so good! We have extracted the core competency of the candidate. Here, ReAct framework comes in. The underlying model needs to reason on the input data and act accordingly on the external sources and reason again and act acoordignly util it reeaches the answer or the stop condition. As a prompt, we add a context to our question (i.e., the core competency derived from the resume). We also need to create a ReAct agent to act on behalf of the model. For this, we define a LangChain agent that has access to a job posting website (Google Job in this example)."
   ]
  },
  {
   "cell_type": "code",
   "execution_count": 21,
   "id": "e1ae501f-b5d1-4be8-aee9-e06eb6bde22a",
   "metadata": {},
   "outputs": [],
   "source": [
    "from langchain.agents import AgentType, initialize_agent, load_tools"
   ]
  },
  {
   "cell_type": "code",
   "execution_count": 22,
   "id": "9aa347ca-5695-4dfb-b087-d62838db8ce5",
   "metadata": {},
   "outputs": [],
   "source": [
    "llm = langchain.llms.openai.OpenAI(temperature=0.1)"
   ]
  },
  {
   "cell_type": "code",
   "execution_count": 27,
   "id": "f197d13e-d4e7-43bd-8e7a-09b237024066",
   "metadata": {},
   "outputs": [],
   "source": [
    "tools = load_tools([\"google-jobs\"], llm=llm)\n",
    "agent = initialize_agent(\n",
    "    tools, llm, agent=AgentType.ZERO_SHOT_REACT_DESCRIPTION, verbose=True\n",
    ")"
   ]
  },
  {
   "cell_type": "code",
   "execution_count": 33,
   "id": "25397938-de1a-4688-a764-e087f69d7199",
   "metadata": {},
   "outputs": [],
   "source": [
    "from langchain.prompts import PromptTemplate\n",
    "\n",
    "multi_var_prompt = PromptTemplate(\n",
    "    input_variables=[\"seniority_level\", \"job_role\",\"country\"], \n",
    "    template=\"\"\"\n",
    "\n",
    "User prompt: What is the best job posting for a {seniority_level} {job_role} in {country}?\n",
    "\n",
    "Output:\"\"\"\n",
    ")\n",
    "\n",
    "# Pass in values to the input variables\n",
    "prompt = multi_var_prompt.format(seniority_level=seniority_level, job_role=job_role, country=\"U.S\")"
   ]
  },
  {
   "cell_type": "code",
   "execution_count": 34,
   "id": "ca759ab1-fbe9-4d0e-9dc9-1f9a5877f31b",
   "metadata": {},
   "outputs": [
    {
     "name": "stdout",
     "output_type": "stream",
     "text": [
      "\n",
      "\n",
      "\u001b[1m> Entering new AgentExecutor chain...\u001b[0m\n",
      "\u001b[32;1m\u001b[1;3m I need to find job postings related to Machine Learning\n",
      "Action: google_jobs\n",
      "Action Input: \"Mid-level Machine Learning Specialist\"\u001b[0m\n",
      "Observation: \u001b[36;1m\u001b[1;3m\n",
      "_______________________________________________\n",
      "Job Title: Mid Level AI/ML (Artificial Intelligence/Machine Learning) Engineer\n",
      "Company Name: Delviom, LLC\n",
      "Location:   Ashburn, VA   \n",
      "Description: Position: Engineer – Artificial Intelligence, Machine Learning\n",
      "\n",
      "Location: Ashburn, VA...\n",
      "\n",
      "Duration: Full Time\n",
      "\n",
      "Delviom is seeking a dynamic and motivated Resource with a minimum of 2 years of hands-on experience in Machine Learning (ML), Artificial Intelligence (AI), and Robotic Process Automation (RPA). The ideal candidate is enthusiastic about joining our team to further explore and enhance their skills in these cutting-edge technologies. This position offers an exciting opportunity for a passionate and skilled AI/ML Engineer to contribute to cutting-edge projects in an innovative and collaborative environment.\n",
      "\n",
      "Job Responsibilities:\n",
      "• Demonstrate a solid background in programming, with expertise in languages such as Python, C++, Java, GO, and MatLab.\n",
      "• Conduct research and development in the areas of AI, computer vision, machine learning, and data science, contributing to innovative solutions and advancements in these domains.\n",
      "• Have hands-on experience in developing and deploying AI/ML models, showcasing knowledge of machine learning frameworks and deep learning toolsets.\n",
      "• Showcase proficiency in DevOps practices, including experience with CI/CD pipelines to build, test, and deploy AI/ML solutions.\n",
      "• Exhibit a strong problem-solving mindset, demonstrating the ability to create solutions for challenging problems under tight schedules and incorporating conflicting or ambiguous data.\n",
      "• Serve as a strong individual contributor, capable of operating autonomously throughout all stages of the development lifecycle, either within cross-functional teams or as a sole contributor.\n",
      "• Ability to effectively communicate how computer science and statistics are applied to solve data and business problems.\n",
      "• Experience in creating data models and exposing them as APIs for consumption in other applications.\n",
      "• Experience in conducting risk assessments and analyzing system implementations.\n",
      "• Demonstrate a good understanding of statistical modeling, machine learning, deep learning, or data analytics concepts.\n",
      "• Be familiar with one or more machine learning or statistical modeling tools.\n",
      "• Possess effective communication skills for engaging in technical discussions and collaborating with cross-functional teams.\n",
      "\n",
      "Job Requirements:\n",
      "• Minimum of 2 years of experience in AI/ML domain programming.\n",
      "• Hold a master’s degree in engineering, Computer Science, or Data Science.\n",
      "• Certification or relevant coursework in AI, machine learning, or data science.\n",
      "• Strong analytical and problem-solving skills.\n",
      "• Ability to work collaboratively in a fast-paced environment.\n",
      "• Proven ability to translate complex technical concepts for non-technical stakeholders.\n",
      "• Excellent organizational and multitasking abilities.\n",
      "• Detail-oriented with a focus on delivering high-quality results.\n",
      "• Continuous learning mindset to stay abreast of industry trends and advancements.\n",
      "\n",
      "Delviom Benefits: 2 weeks Paid vacation, floating holidays, Paid National Holidays, Relocation allowance, Health Insurance, Dental Insurance, Vision Insurance, Life Insurance, Voluntary life Insurance coverage, Voluntary Short-Term Disability coverage, 401K, Training and certification.\n",
      "\n",
      "Delviom, LLC is an EEO/Affirmative Action Employer and does not discriminate based on age, gender, religion, disability, marital status, race and also adheres to laws relating to non-discrimination on the basis of national origin and citizenship status\n",
      "_______________________________________________\n",
      "\n",
      "\u001b[0m\n",
      "Thought:\u001b[32;1m\u001b[1;3m I now know the best job posting for a Mid-level Machine Learning Specialist in U.S\n",
      "Final Answer: Delviom, LLC is offering a Mid Level AI/ML (Artificial Intelligence/Machine Learning) Engineer position in Ashburn, VA with full time duration. The job responsibilities include demonstrating a solid background in programming, conducting research and development in the areas of AI, computer vision, machine learning, and data science, developing and deploying AI/ML models, showcasing knowledge of machine learning frameworks and deep learning toolsets, and more. The job requirements include a minimum of 2 years of experience in AI/ML domain programming, a master’s degree in engineering, Computer Science, or Data Science, certification or relevant coursework in AI, machine learning, or data science, and more. Benefits include 2 weeks Paid vacation, floating holidays, Paid National Holidays, Relocation allowance, Health Insurance, Dental Insurance, Vision Insurance, Life Insurance, Voluntary life Insurance coverage, Voluntary Short-Term Disability coverage, 401K, Training and certification.\u001b[0m\n",
      "\n",
      "\u001b[1m> Finished chain.\u001b[0m\n"
     ]
    },
    {
     "data": {
      "text/plain": [
       "'Delviom, LLC is offering a Mid Level AI/ML (Artificial Intelligence/Machine Learning) Engineer position in Ashburn, VA with full time duration. The job responsibilities include demonstrating a solid background in programming, conducting research and development in the areas of AI, computer vision, machine learning, and data science, developing and deploying AI/ML models, showcasing knowledge of machine learning frameworks and deep learning toolsets, and more. The job requirements include a minimum of 2 years of experience in AI/ML domain programming, a master’s degree in engineering, Computer Science, or Data Science, certification or relevant coursework in AI, machine learning, or data science, and more. Benefits include 2 weeks Paid vacation, floating holidays, Paid National Holidays, Relocation allowance, Health Insurance, Dental Insurance, Vision Insurance, Life Insurance, Voluntary life Insurance coverage, Voluntary Short-Term Disability coverage, 401K, Training and certification.'"
      ]
     },
     "execution_count": 34,
     "metadata": {},
     "output_type": "execute_result"
    }
   ],
   "source": [
    "agent.run(prompt)"
   ]
  }
 ],
 "metadata": {
  "availableInstances": [
   {
    "_defaultOrder": 0,
    "_isFastLaunch": true,
    "category": "General purpose",
    "gpuNum": 0,
    "hideHardwareSpecs": false,
    "memoryGiB": 4,
    "name": "ml.t3.medium",
    "vcpuNum": 2
   },
   {
    "_defaultOrder": 1,
    "_isFastLaunch": false,
    "category": "General purpose",
    "gpuNum": 0,
    "hideHardwareSpecs": false,
    "memoryGiB": 8,
    "name": "ml.t3.large",
    "vcpuNum": 2
   },
   {
    "_defaultOrder": 2,
    "_isFastLaunch": false,
    "category": "General purpose",
    "gpuNum": 0,
    "hideHardwareSpecs": false,
    "memoryGiB": 16,
    "name": "ml.t3.xlarge",
    "vcpuNum": 4
   },
   {
    "_defaultOrder": 3,
    "_isFastLaunch": false,
    "category": "General purpose",
    "gpuNum": 0,
    "hideHardwareSpecs": false,
    "memoryGiB": 32,
    "name": "ml.t3.2xlarge",
    "vcpuNum": 8
   },
   {
    "_defaultOrder": 4,
    "_isFastLaunch": true,
    "category": "General purpose",
    "gpuNum": 0,
    "hideHardwareSpecs": false,
    "memoryGiB": 8,
    "name": "ml.m5.large",
    "vcpuNum": 2
   },
   {
    "_defaultOrder": 5,
    "_isFastLaunch": false,
    "category": "General purpose",
    "gpuNum": 0,
    "hideHardwareSpecs": false,
    "memoryGiB": 16,
    "name": "ml.m5.xlarge",
    "vcpuNum": 4
   },
   {
    "_defaultOrder": 6,
    "_isFastLaunch": false,
    "category": "General purpose",
    "gpuNum": 0,
    "hideHardwareSpecs": false,
    "memoryGiB": 32,
    "name": "ml.m5.2xlarge",
    "vcpuNum": 8
   },
   {
    "_defaultOrder": 7,
    "_isFastLaunch": false,
    "category": "General purpose",
    "gpuNum": 0,
    "hideHardwareSpecs": false,
    "memoryGiB": 64,
    "name": "ml.m5.4xlarge",
    "vcpuNum": 16
   },
   {
    "_defaultOrder": 8,
    "_isFastLaunch": false,
    "category": "General purpose",
    "gpuNum": 0,
    "hideHardwareSpecs": false,
    "memoryGiB": 128,
    "name": "ml.m5.8xlarge",
    "vcpuNum": 32
   },
   {
    "_defaultOrder": 9,
    "_isFastLaunch": false,
    "category": "General purpose",
    "gpuNum": 0,
    "hideHardwareSpecs": false,
    "memoryGiB": 192,
    "name": "ml.m5.12xlarge",
    "vcpuNum": 48
   },
   {
    "_defaultOrder": 10,
    "_isFastLaunch": false,
    "category": "General purpose",
    "gpuNum": 0,
    "hideHardwareSpecs": false,
    "memoryGiB": 256,
    "name": "ml.m5.16xlarge",
    "vcpuNum": 64
   },
   {
    "_defaultOrder": 11,
    "_isFastLaunch": false,
    "category": "General purpose",
    "gpuNum": 0,
    "hideHardwareSpecs": false,
    "memoryGiB": 384,
    "name": "ml.m5.24xlarge",
    "vcpuNum": 96
   },
   {
    "_defaultOrder": 12,
    "_isFastLaunch": false,
    "category": "General purpose",
    "gpuNum": 0,
    "hideHardwareSpecs": false,
    "memoryGiB": 8,
    "name": "ml.m5d.large",
    "vcpuNum": 2
   },
   {
    "_defaultOrder": 13,
    "_isFastLaunch": false,
    "category": "General purpose",
    "gpuNum": 0,
    "hideHardwareSpecs": false,
    "memoryGiB": 16,
    "name": "ml.m5d.xlarge",
    "vcpuNum": 4
   },
   {
    "_defaultOrder": 14,
    "_isFastLaunch": false,
    "category": "General purpose",
    "gpuNum": 0,
    "hideHardwareSpecs": false,
    "memoryGiB": 32,
    "name": "ml.m5d.2xlarge",
    "vcpuNum": 8
   },
   {
    "_defaultOrder": 15,
    "_isFastLaunch": false,
    "category": "General purpose",
    "gpuNum": 0,
    "hideHardwareSpecs": false,
    "memoryGiB": 64,
    "name": "ml.m5d.4xlarge",
    "vcpuNum": 16
   },
   {
    "_defaultOrder": 16,
    "_isFastLaunch": false,
    "category": "General purpose",
    "gpuNum": 0,
    "hideHardwareSpecs": false,
    "memoryGiB": 128,
    "name": "ml.m5d.8xlarge",
    "vcpuNum": 32
   },
   {
    "_defaultOrder": 17,
    "_isFastLaunch": false,
    "category": "General purpose",
    "gpuNum": 0,
    "hideHardwareSpecs": false,
    "memoryGiB": 192,
    "name": "ml.m5d.12xlarge",
    "vcpuNum": 48
   },
   {
    "_defaultOrder": 18,
    "_isFastLaunch": false,
    "category": "General purpose",
    "gpuNum": 0,
    "hideHardwareSpecs": false,
    "memoryGiB": 256,
    "name": "ml.m5d.16xlarge",
    "vcpuNum": 64
   },
   {
    "_defaultOrder": 19,
    "_isFastLaunch": false,
    "category": "General purpose",
    "gpuNum": 0,
    "hideHardwareSpecs": false,
    "memoryGiB": 384,
    "name": "ml.m5d.24xlarge",
    "vcpuNum": 96
   },
   {
    "_defaultOrder": 20,
    "_isFastLaunch": false,
    "category": "General purpose",
    "gpuNum": 0,
    "hideHardwareSpecs": true,
    "memoryGiB": 0,
    "name": "ml.geospatial.interactive",
    "supportedImageNames": [
     "sagemaker-geospatial-v1-0"
    ],
    "vcpuNum": 0
   },
   {
    "_defaultOrder": 21,
    "_isFastLaunch": true,
    "category": "Compute optimized",
    "gpuNum": 0,
    "hideHardwareSpecs": false,
    "memoryGiB": 4,
    "name": "ml.c5.large",
    "vcpuNum": 2
   },
   {
    "_defaultOrder": 22,
    "_isFastLaunch": false,
    "category": "Compute optimized",
    "gpuNum": 0,
    "hideHardwareSpecs": false,
    "memoryGiB": 8,
    "name": "ml.c5.xlarge",
    "vcpuNum": 4
   },
   {
    "_defaultOrder": 23,
    "_isFastLaunch": false,
    "category": "Compute optimized",
    "gpuNum": 0,
    "hideHardwareSpecs": false,
    "memoryGiB": 16,
    "name": "ml.c5.2xlarge",
    "vcpuNum": 8
   },
   {
    "_defaultOrder": 24,
    "_isFastLaunch": false,
    "category": "Compute optimized",
    "gpuNum": 0,
    "hideHardwareSpecs": false,
    "memoryGiB": 32,
    "name": "ml.c5.4xlarge",
    "vcpuNum": 16
   },
   {
    "_defaultOrder": 25,
    "_isFastLaunch": false,
    "category": "Compute optimized",
    "gpuNum": 0,
    "hideHardwareSpecs": false,
    "memoryGiB": 72,
    "name": "ml.c5.9xlarge",
    "vcpuNum": 36
   },
   {
    "_defaultOrder": 26,
    "_isFastLaunch": false,
    "category": "Compute optimized",
    "gpuNum": 0,
    "hideHardwareSpecs": false,
    "memoryGiB": 96,
    "name": "ml.c5.12xlarge",
    "vcpuNum": 48
   },
   {
    "_defaultOrder": 27,
    "_isFastLaunch": false,
    "category": "Compute optimized",
    "gpuNum": 0,
    "hideHardwareSpecs": false,
    "memoryGiB": 144,
    "name": "ml.c5.18xlarge",
    "vcpuNum": 72
   },
   {
    "_defaultOrder": 28,
    "_isFastLaunch": false,
    "category": "Compute optimized",
    "gpuNum": 0,
    "hideHardwareSpecs": false,
    "memoryGiB": 192,
    "name": "ml.c5.24xlarge",
    "vcpuNum": 96
   },
   {
    "_defaultOrder": 29,
    "_isFastLaunch": true,
    "category": "Accelerated computing",
    "gpuNum": 1,
    "hideHardwareSpecs": false,
    "memoryGiB": 16,
    "name": "ml.g4dn.xlarge",
    "vcpuNum": 4
   },
   {
    "_defaultOrder": 30,
    "_isFastLaunch": false,
    "category": "Accelerated computing",
    "gpuNum": 1,
    "hideHardwareSpecs": false,
    "memoryGiB": 32,
    "name": "ml.g4dn.2xlarge",
    "vcpuNum": 8
   },
   {
    "_defaultOrder": 31,
    "_isFastLaunch": false,
    "category": "Accelerated computing",
    "gpuNum": 1,
    "hideHardwareSpecs": false,
    "memoryGiB": 64,
    "name": "ml.g4dn.4xlarge",
    "vcpuNum": 16
   },
   {
    "_defaultOrder": 32,
    "_isFastLaunch": false,
    "category": "Accelerated computing",
    "gpuNum": 1,
    "hideHardwareSpecs": false,
    "memoryGiB": 128,
    "name": "ml.g4dn.8xlarge",
    "vcpuNum": 32
   },
   {
    "_defaultOrder": 33,
    "_isFastLaunch": false,
    "category": "Accelerated computing",
    "gpuNum": 4,
    "hideHardwareSpecs": false,
    "memoryGiB": 192,
    "name": "ml.g4dn.12xlarge",
    "vcpuNum": 48
   },
   {
    "_defaultOrder": 34,
    "_isFastLaunch": false,
    "category": "Accelerated computing",
    "gpuNum": 1,
    "hideHardwareSpecs": false,
    "memoryGiB": 256,
    "name": "ml.g4dn.16xlarge",
    "vcpuNum": 64
   },
   {
    "_defaultOrder": 35,
    "_isFastLaunch": false,
    "category": "Accelerated computing",
    "gpuNum": 1,
    "hideHardwareSpecs": false,
    "memoryGiB": 61,
    "name": "ml.p3.2xlarge",
    "vcpuNum": 8
   },
   {
    "_defaultOrder": 36,
    "_isFastLaunch": false,
    "category": "Accelerated computing",
    "gpuNum": 4,
    "hideHardwareSpecs": false,
    "memoryGiB": 244,
    "name": "ml.p3.8xlarge",
    "vcpuNum": 32
   },
   {
    "_defaultOrder": 37,
    "_isFastLaunch": false,
    "category": "Accelerated computing",
    "gpuNum": 8,
    "hideHardwareSpecs": false,
    "memoryGiB": 488,
    "name": "ml.p3.16xlarge",
    "vcpuNum": 64
   },
   {
    "_defaultOrder": 38,
    "_isFastLaunch": false,
    "category": "Accelerated computing",
    "gpuNum": 8,
    "hideHardwareSpecs": false,
    "memoryGiB": 768,
    "name": "ml.p3dn.24xlarge",
    "vcpuNum": 96
   },
   {
    "_defaultOrder": 39,
    "_isFastLaunch": false,
    "category": "Memory Optimized",
    "gpuNum": 0,
    "hideHardwareSpecs": false,
    "memoryGiB": 16,
    "name": "ml.r5.large",
    "vcpuNum": 2
   },
   {
    "_defaultOrder": 40,
    "_isFastLaunch": false,
    "category": "Memory Optimized",
    "gpuNum": 0,
    "hideHardwareSpecs": false,
    "memoryGiB": 32,
    "name": "ml.r5.xlarge",
    "vcpuNum": 4
   },
   {
    "_defaultOrder": 41,
    "_isFastLaunch": false,
    "category": "Memory Optimized",
    "gpuNum": 0,
    "hideHardwareSpecs": false,
    "memoryGiB": 64,
    "name": "ml.r5.2xlarge",
    "vcpuNum": 8
   },
   {
    "_defaultOrder": 42,
    "_isFastLaunch": false,
    "category": "Memory Optimized",
    "gpuNum": 0,
    "hideHardwareSpecs": false,
    "memoryGiB": 128,
    "name": "ml.r5.4xlarge",
    "vcpuNum": 16
   },
   {
    "_defaultOrder": 43,
    "_isFastLaunch": false,
    "category": "Memory Optimized",
    "gpuNum": 0,
    "hideHardwareSpecs": false,
    "memoryGiB": 256,
    "name": "ml.r5.8xlarge",
    "vcpuNum": 32
   },
   {
    "_defaultOrder": 44,
    "_isFastLaunch": false,
    "category": "Memory Optimized",
    "gpuNum": 0,
    "hideHardwareSpecs": false,
    "memoryGiB": 384,
    "name": "ml.r5.12xlarge",
    "vcpuNum": 48
   },
   {
    "_defaultOrder": 45,
    "_isFastLaunch": false,
    "category": "Memory Optimized",
    "gpuNum": 0,
    "hideHardwareSpecs": false,
    "memoryGiB": 512,
    "name": "ml.r5.16xlarge",
    "vcpuNum": 64
   },
   {
    "_defaultOrder": 46,
    "_isFastLaunch": false,
    "category": "Memory Optimized",
    "gpuNum": 0,
    "hideHardwareSpecs": false,
    "memoryGiB": 768,
    "name": "ml.r5.24xlarge",
    "vcpuNum": 96
   },
   {
    "_defaultOrder": 47,
    "_isFastLaunch": false,
    "category": "Accelerated computing",
    "gpuNum": 1,
    "hideHardwareSpecs": false,
    "memoryGiB": 16,
    "name": "ml.g5.xlarge",
    "vcpuNum": 4
   },
   {
    "_defaultOrder": 48,
    "_isFastLaunch": false,
    "category": "Accelerated computing",
    "gpuNum": 1,
    "hideHardwareSpecs": false,
    "memoryGiB": 32,
    "name": "ml.g5.2xlarge",
    "vcpuNum": 8
   },
   {
    "_defaultOrder": 49,
    "_isFastLaunch": false,
    "category": "Accelerated computing",
    "gpuNum": 1,
    "hideHardwareSpecs": false,
    "memoryGiB": 64,
    "name": "ml.g5.4xlarge",
    "vcpuNum": 16
   },
   {
    "_defaultOrder": 50,
    "_isFastLaunch": false,
    "category": "Accelerated computing",
    "gpuNum": 1,
    "hideHardwareSpecs": false,
    "memoryGiB": 128,
    "name": "ml.g5.8xlarge",
    "vcpuNum": 32
   },
   {
    "_defaultOrder": 51,
    "_isFastLaunch": false,
    "category": "Accelerated computing",
    "gpuNum": 1,
    "hideHardwareSpecs": false,
    "memoryGiB": 256,
    "name": "ml.g5.16xlarge",
    "vcpuNum": 64
   },
   {
    "_defaultOrder": 52,
    "_isFastLaunch": false,
    "category": "Accelerated computing",
    "gpuNum": 4,
    "hideHardwareSpecs": false,
    "memoryGiB": 192,
    "name": "ml.g5.12xlarge",
    "vcpuNum": 48
   },
   {
    "_defaultOrder": 53,
    "_isFastLaunch": false,
    "category": "Accelerated computing",
    "gpuNum": 4,
    "hideHardwareSpecs": false,
    "memoryGiB": 384,
    "name": "ml.g5.24xlarge",
    "vcpuNum": 96
   },
   {
    "_defaultOrder": 54,
    "_isFastLaunch": false,
    "category": "Accelerated computing",
    "gpuNum": 8,
    "hideHardwareSpecs": false,
    "memoryGiB": 768,
    "name": "ml.g5.48xlarge",
    "vcpuNum": 192
   },
   {
    "_defaultOrder": 55,
    "_isFastLaunch": false,
    "category": "Accelerated computing",
    "gpuNum": 8,
    "hideHardwareSpecs": false,
    "memoryGiB": 1152,
    "name": "ml.p4d.24xlarge",
    "vcpuNum": 96
   },
   {
    "_defaultOrder": 56,
    "_isFastLaunch": false,
    "category": "Accelerated computing",
    "gpuNum": 8,
    "hideHardwareSpecs": false,
    "memoryGiB": 1152,
    "name": "ml.p4de.24xlarge",
    "vcpuNum": 96
   },
   {
    "_defaultOrder": 57,
    "_isFastLaunch": false,
    "category": "Accelerated computing",
    "gpuNum": 0,
    "hideHardwareSpecs": false,
    "memoryGiB": 32,
    "name": "ml.trn1.2xlarge",
    "vcpuNum": 8
   },
   {
    "_defaultOrder": 58,
    "_isFastLaunch": false,
    "category": "Accelerated computing",
    "gpuNum": 0,
    "hideHardwareSpecs": false,
    "memoryGiB": 512,
    "name": "ml.trn1.32xlarge",
    "vcpuNum": 128
   },
   {
    "_defaultOrder": 59,
    "_isFastLaunch": false,
    "category": "Accelerated computing",
    "gpuNum": 0,
    "hideHardwareSpecs": false,
    "memoryGiB": 512,
    "name": "ml.trn1n.32xlarge",
    "vcpuNum": 128
   }
  ],
  "instance_type": "ml.t3.medium",
  "kernelspec": {
   "display_name": "Python 3 (Data Science 3.0)",
   "language": "python",
   "name": "python3__SAGEMAKER_INTERNAL__arn:aws:sagemaker:us-east-1:081325390199:image/sagemaker-data-science-310-v1"
  },
  "language_info": {
   "codemirror_mode": {
    "name": "ipython",
    "version": 3
   },
   "file_extension": ".py",
   "mimetype": "text/x-python",
   "name": "python",
   "nbconvert_exporter": "python",
   "pygments_lexer": "ipython3",
   "version": "3.10.6"
  }
 },
 "nbformat": 4,
 "nbformat_minor": 5
}
